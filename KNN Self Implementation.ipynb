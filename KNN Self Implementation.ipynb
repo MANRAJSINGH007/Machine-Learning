{
 "cells": [
  {
   "cell_type": "code",
   "execution_count": 9,
   "metadata": {},
   "outputs": [],
   "source": [
    "from sklearn import datasets\n",
    "from sklearn.neighbors import KNeighborsClassifier\n",
    "from sklearn.model_selection import train_test_split\n",
    "from sklearn.metrics import accuracy_score\n",
    "import numpy as np\n",
    "from collections import Counter"
   ]
  },
  {
   "cell_type": "code",
   "execution_count": 10,
   "metadata": {},
   "outputs": [],
   "source": [
    "dataset=datasets.load_breast_cancer()\n",
    "x_train, x_test, y_train, y_test=train_test_split(dataset.data, dataset.target, test_size=0.2, random_state=0)"
   ]
  },
  {
   "cell_type": "code",
   "execution_count": 11,
   "metadata": {},
   "outputs": [],
   "source": [
    "def train(x, y):\n",
    "    return \n",
    "\n",
    "def predict_one(x_train, y_train, x_test, k):\n",
    "    distances=[]\n",
    "    # calculates the distances from each training data point and stores a list of size 2 coressponding to each training data point in distances\n",
    "    # distances[0]=small_list of size 2\n",
    "    # small_list[0]=distance of ith training data point and small_list[1]=index of the ith training data point\n",
    "    \n",
    "    # loop over the traing data points\n",
    "    for i in range(len(x_train)):\n",
    "        \n",
    "        # find feature vise distance between the testing data point and the ith training data point\n",
    "        #square it for eucledian distance and then do the summation for all the features\n",
    "        distance=((x_train[i,:]-x_test)**2).sum()\n",
    "        # append in the small_list in distances\n",
    "        distances.append([distance,i])\n",
    "        \n",
    "    # sort the distances\n",
    "    # by default sorts on the first argument\n",
    "    distances=sorted(distances)\n",
    "    # create the targets list which will contain y_train for the coressponding x_train values\n",
    "    targets=[]\n",
    "    # select the top most k neighbors\n",
    "    for i in range(k):\n",
    "        targets.append(y_train[distances[i][1]])\n",
    "    \n",
    "    # return the most common class with the class number\n",
    "    # Counter(targets).most_common(x) gives a list of the most common classes\n",
    "    # pass x to get the topmost x classes\n",
    "    # use Counter(targets).most_common(1)[0][0] for class number and Counter(targets).most_common(1)[0][1] for the class freq\n",
    "    return Counter(targets).most_common(1)[0][0]\n",
    "\n",
    "\n",
    "def predict(x_train, y_train, x_test_data, k):\n",
    "    predictions=[]\n",
    "    for x_test in x_test_data:\n",
    "        predictions.append(predict_one(x_train, y_train, x_test, k))\n",
    "    return predictions"
   ]
  },
  {
   "cell_type": "code",
   "execution_count": 12,
   "metadata": {},
   "outputs": [],
   "source": [
    "y_pred=predict(x_train, y_train, x_test, 7)\n",
    "y_pred=np.array(y_pred)"
   ]
  },
  {
   "cell_type": "code",
   "execution_count": 13,
   "metadata": {},
   "outputs": [
    {
     "data": {
      "text/plain": [
       "0.9473684210526315"
      ]
     },
     "execution_count": 13,
     "metadata": {},
     "output_type": "execute_result"
    }
   ],
   "source": [
    "accuracy_score(y_test, y_pred)"
   ]
  }
 ],
 "metadata": {
  "kernelspec": {
   "display_name": "Python 3",
   "language": "python",
   "name": "python3"
  },
  "language_info": {
   "codemirror_mode": {
    "name": "ipython",
    "version": 3
   },
   "file_extension": ".py",
   "mimetype": "text/x-python",
   "name": "python",
   "nbconvert_exporter": "python",
   "pygments_lexer": "ipython3",
   "version": "3.6.5"
  }
 },
 "nbformat": 4,
 "nbformat_minor": 2
}
