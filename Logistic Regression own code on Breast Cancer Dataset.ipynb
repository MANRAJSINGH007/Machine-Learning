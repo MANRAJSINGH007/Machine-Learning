{
 "cells": [
  {
   "cell_type": "code",
   "execution_count": 1,
   "metadata": {},
   "outputs": [],
   "source": [
    "import numpy as np\n",
    "import pandas as pd\n",
    "from sklearn.linear_model import LogisticRegression\n",
    "from sklearn import datasets\n",
    "from math import e, log"
   ]
  },
  {
   "cell_type": "code",
   "execution_count": 2,
   "metadata": {
    "scrolled": true
   },
   "outputs": [
    {
     "data": {
      "text/plain": [
       "{'data': array([[1.799e+01, 1.038e+01, 1.228e+02, ..., 2.654e-01, 4.601e-01,\n",
       "         1.189e-01],\n",
       "        [2.057e+01, 1.777e+01, 1.329e+02, ..., 1.860e-01, 2.750e-01,\n",
       "         8.902e-02],\n",
       "        [1.969e+01, 2.125e+01, 1.300e+02, ..., 2.430e-01, 3.613e-01,\n",
       "         8.758e-02],\n",
       "        ...,\n",
       "        [1.660e+01, 2.808e+01, 1.083e+02, ..., 1.418e-01, 2.218e-01,\n",
       "         7.820e-02],\n",
       "        [2.060e+01, 2.933e+01, 1.401e+02, ..., 2.650e-01, 4.087e-01,\n",
       "         1.240e-01],\n",
       "        [7.760e+00, 2.454e+01, 4.792e+01, ..., 0.000e+00, 2.871e-01,\n",
       "         7.039e-02]]),\n",
       " 'target': array([0, 0, 0, 0, 0, 0, 0, 0, 0, 0, 0, 0, 0, 0, 0, 0, 0, 0, 0, 1, 1, 1,\n",
       "        0, 0, 0, 0, 0, 0, 0, 0, 0, 0, 0, 0, 0, 0, 0, 1, 0, 0, 0, 0, 0, 0,\n",
       "        0, 0, 1, 0, 1, 1, 1, 1, 1, 0, 0, 1, 0, 0, 1, 1, 1, 1, 0, 1, 0, 0,\n",
       "        1, 1, 1, 1, 0, 1, 0, 0, 1, 0, 1, 0, 0, 1, 1, 1, 0, 0, 1, 0, 0, 0,\n",
       "        1, 1, 1, 0, 1, 1, 0, 0, 1, 1, 1, 0, 0, 1, 1, 1, 1, 0, 1, 1, 0, 1,\n",
       "        1, 1, 1, 1, 1, 1, 1, 0, 0, 0, 1, 0, 0, 1, 1, 1, 0, 0, 1, 0, 1, 0,\n",
       "        0, 1, 0, 0, 1, 1, 0, 1, 1, 0, 1, 1, 1, 1, 0, 1, 1, 1, 1, 1, 1, 1,\n",
       "        1, 1, 0, 1, 1, 1, 1, 0, 0, 1, 0, 1, 1, 0, 0, 1, 1, 0, 0, 1, 1, 1,\n",
       "        1, 0, 1, 1, 0, 0, 0, 1, 0, 1, 0, 1, 1, 1, 0, 1, 1, 0, 0, 1, 0, 0,\n",
       "        0, 0, 1, 0, 0, 0, 1, 0, 1, 0, 1, 1, 0, 1, 0, 0, 0, 0, 1, 1, 0, 0,\n",
       "        1, 1, 1, 0, 1, 1, 1, 1, 1, 0, 0, 1, 1, 0, 1, 1, 0, 0, 1, 0, 1, 1,\n",
       "        1, 1, 0, 1, 1, 1, 1, 1, 0, 1, 0, 0, 0, 0, 0, 0, 0, 0, 0, 0, 0, 0,\n",
       "        0, 0, 1, 1, 1, 1, 1, 1, 0, 1, 0, 1, 1, 0, 1, 1, 0, 1, 0, 0, 1, 1,\n",
       "        1, 1, 1, 1, 1, 1, 1, 1, 1, 1, 1, 0, 1, 1, 0, 1, 0, 1, 1, 1, 1, 1,\n",
       "        1, 1, 1, 1, 1, 1, 1, 1, 1, 0, 1, 1, 1, 0, 1, 0, 1, 1, 1, 1, 0, 0,\n",
       "        0, 1, 1, 1, 1, 0, 1, 0, 1, 0, 1, 1, 1, 0, 1, 1, 1, 1, 1, 1, 1, 0,\n",
       "        0, 0, 1, 1, 1, 1, 1, 1, 1, 1, 1, 1, 1, 0, 0, 1, 0, 0, 0, 1, 0, 0,\n",
       "        1, 1, 1, 1, 1, 0, 1, 1, 1, 1, 1, 0, 1, 1, 1, 0, 1, 1, 0, 0, 1, 1,\n",
       "        1, 1, 1, 1, 0, 1, 1, 1, 1, 1, 1, 1, 0, 1, 1, 1, 1, 1, 0, 1, 1, 0,\n",
       "        1, 1, 1, 1, 1, 1, 1, 1, 1, 1, 1, 1, 0, 1, 0, 0, 1, 0, 1, 1, 1, 1,\n",
       "        1, 0, 1, 1, 0, 1, 0, 1, 1, 0, 1, 0, 1, 1, 1, 1, 1, 1, 1, 1, 0, 0,\n",
       "        1, 1, 1, 1, 1, 1, 0, 1, 1, 1, 1, 1, 1, 1, 1, 1, 1, 0, 1, 1, 1, 1,\n",
       "        1, 1, 1, 0, 1, 0, 1, 1, 0, 1, 1, 1, 1, 1, 0, 0, 1, 0, 1, 0, 1, 1,\n",
       "        1, 1, 1, 0, 1, 1, 0, 1, 0, 1, 0, 0, 1, 1, 1, 0, 1, 1, 1, 1, 1, 1,\n",
       "        1, 1, 1, 1, 1, 0, 1, 0, 0, 1, 1, 1, 1, 1, 1, 1, 1, 1, 1, 1, 1, 1,\n",
       "        1, 1, 1, 1, 1, 1, 1, 1, 1, 1, 1, 1, 0, 0, 0, 0, 0, 0, 1]),\n",
       " 'target_names': array(['malignant', 'benign'], dtype='<U9'),\n",
       " 'DESCR': 'Breast Cancer Wisconsin (Diagnostic) Database\\n=============================================\\n\\nNotes\\n-----\\nData Set Characteristics:\\n    :Number of Instances: 569\\n\\n    :Number of Attributes: 30 numeric, predictive attributes and the class\\n\\n    :Attribute Information:\\n        - radius (mean of distances from center to points on the perimeter)\\n        - texture (standard deviation of gray-scale values)\\n        - perimeter\\n        - area\\n        - smoothness (local variation in radius lengths)\\n        - compactness (perimeter^2 / area - 1.0)\\n        - concavity (severity of concave portions of the contour)\\n        - concave points (number of concave portions of the contour)\\n        - symmetry \\n        - fractal dimension (\"coastline approximation\" - 1)\\n\\n        The mean, standard error, and \"worst\" or largest (mean of the three\\n        largest values) of these features were computed for each image,\\n        resulting in 30 features.  For instance, field 3 is Mean Radius, field\\n        13 is Radius SE, field 23 is Worst Radius.\\n\\n        - class:\\n                - WDBC-Malignant\\n                - WDBC-Benign\\n\\n    :Summary Statistics:\\n\\n    ===================================== ====== ======\\n                                           Min    Max\\n    ===================================== ====== ======\\n    radius (mean):                        6.981  28.11\\n    texture (mean):                       9.71   39.28\\n    perimeter (mean):                     43.79  188.5\\n    area (mean):                          143.5  2501.0\\n    smoothness (mean):                    0.053  0.163\\n    compactness (mean):                   0.019  0.345\\n    concavity (mean):                     0.0    0.427\\n    concave points (mean):                0.0    0.201\\n    symmetry (mean):                      0.106  0.304\\n    fractal dimension (mean):             0.05   0.097\\n    radius (standard error):              0.112  2.873\\n    texture (standard error):             0.36   4.885\\n    perimeter (standard error):           0.757  21.98\\n    area (standard error):                6.802  542.2\\n    smoothness (standard error):          0.002  0.031\\n    compactness (standard error):         0.002  0.135\\n    concavity (standard error):           0.0    0.396\\n    concave points (standard error):      0.0    0.053\\n    symmetry (standard error):            0.008  0.079\\n    fractal dimension (standard error):   0.001  0.03\\n    radius (worst):                       7.93   36.04\\n    texture (worst):                      12.02  49.54\\n    perimeter (worst):                    50.41  251.2\\n    area (worst):                         185.2  4254.0\\n    smoothness (worst):                   0.071  0.223\\n    compactness (worst):                  0.027  1.058\\n    concavity (worst):                    0.0    1.252\\n    concave points (worst):               0.0    0.291\\n    symmetry (worst):                     0.156  0.664\\n    fractal dimension (worst):            0.055  0.208\\n    ===================================== ====== ======\\n\\n    :Missing Attribute Values: None\\n\\n    :Class Distribution: 212 - Malignant, 357 - Benign\\n\\n    :Creator:  Dr. William H. Wolberg, W. Nick Street, Olvi L. Mangasarian\\n\\n    :Donor: Nick Street\\n\\n    :Date: November, 1995\\n\\nThis is a copy of UCI ML Breast Cancer Wisconsin (Diagnostic) datasets.\\nhttps://goo.gl/U2Uwz2\\n\\nFeatures are computed from a digitized image of a fine needle\\naspirate (FNA) of a breast mass.  They describe\\ncharacteristics of the cell nuclei present in the image.\\n\\nSeparating plane described above was obtained using\\nMultisurface Method-Tree (MSM-T) [K. P. Bennett, \"Decision Tree\\nConstruction Via Linear Programming.\" Proceedings of the 4th\\nMidwest Artificial Intelligence and Cognitive Science Society,\\npp. 97-101, 1992], a classification method which uses linear\\nprogramming to construct a decision tree.  Relevant features\\nwere selected using an exhaustive search in the space of 1-4\\nfeatures and 1-3 separating planes.\\n\\nThe actual linear program used to obtain the separating plane\\nin the 3-dimensional space is that described in:\\n[K. P. Bennett and O. L. Mangasarian: \"Robust Linear\\nProgramming Discrimination of Two Linearly Inseparable Sets\",\\nOptimization Methods and Software 1, 1992, 23-34].\\n\\nThis database is also available through the UW CS ftp server:\\n\\nftp ftp.cs.wisc.edu\\ncd math-prog/cpo-dataset/machine-learn/WDBC/\\n\\nReferences\\n----------\\n   - W.N. Street, W.H. Wolberg and O.L. Mangasarian. Nuclear feature extraction \\n     for breast tumor diagnosis. IS&T/SPIE 1993 International Symposium on \\n     Electronic Imaging: Science and Technology, volume 1905, pages 861-870,\\n     San Jose, CA, 1993.\\n   - O.L. Mangasarian, W.N. Street and W.H. Wolberg. Breast cancer diagnosis and \\n     prognosis via linear programming. Operations Research, 43(4), pages 570-577, \\n     July-August 1995.\\n   - W.H. Wolberg, W.N. Street, and O.L. Mangasarian. Machine learning techniques\\n     to diagnose breast cancer from fine-needle aspirates. Cancer Letters 77 (1994) \\n     163-171.\\n',\n",
       " 'feature_names': array(['mean radius', 'mean texture', 'mean perimeter', 'mean area',\n",
       "        'mean smoothness', 'mean compactness', 'mean concavity',\n",
       "        'mean concave points', 'mean symmetry', 'mean fractal dimension',\n",
       "        'radius error', 'texture error', 'perimeter error', 'area error',\n",
       "        'smoothness error', 'compactness error', 'concavity error',\n",
       "        'concave points error', 'symmetry error',\n",
       "        'fractal dimension error', 'worst radius', 'worst texture',\n",
       "        'worst perimeter', 'worst area', 'worst smoothness',\n",
       "        'worst compactness', 'worst concavity', 'worst concave points',\n",
       "        'worst symmetry', 'worst fractal dimension'], dtype='<U23')}"
      ]
     },
     "execution_count": 2,
     "metadata": {},
     "output_type": "execute_result"
    }
   ],
   "source": [
    "cancer_ds = datasets.load_breast_cancer()\n",
    "cancer_ds"
   ]
  },
  {
   "cell_type": "code",
   "execution_count": 3,
   "metadata": {},
   "outputs": [],
   "source": [
    "x = (cancer_ds.data)"
   ]
  },
  {
   "cell_type": "code",
   "execution_count": 4,
   "metadata": {},
   "outputs": [],
   "source": [
    "y = (cancer_ds.target)"
   ]
  },
  {
   "cell_type": "code",
   "execution_count": 5,
   "metadata": {},
   "outputs": [
    {
     "data": {
      "text/plain": [
       "(569, 30)"
      ]
     },
     "execution_count": 5,
     "metadata": {},
     "output_type": "execute_result"
    }
   ],
   "source": [
    "x.shape"
   ]
  },
  {
   "cell_type": "code",
   "execution_count": 6,
   "metadata": {},
   "outputs": [
    {
     "data": {
      "text/plain": [
       "(569,)"
      ]
     },
     "execution_count": 6,
     "metadata": {},
     "output_type": "execute_result"
    }
   ],
   "source": [
    "y.shape"
   ]
  },
  {
   "cell_type": "code",
   "execution_count": 7,
   "metadata": {},
   "outputs": [],
   "source": [
    "from sklearn.preprocessing import StandardScaler  \n",
    "scaler = StandardScaler()\n",
    "x = scaler.fit_transform(x)"
   ]
  },
  {
   "cell_type": "code",
   "execution_count": 8,
   "metadata": {},
   "outputs": [],
   "source": [
    "# x = pd.DataFrame(x)\n",
    "# x.describe()"
   ]
  },
  {
   "cell_type": "code",
   "execution_count": 9,
   "metadata": {},
   "outputs": [],
   "source": [
    "def gd(x, y, learning_rate, number_of_iterations):\n",
    "    slopes = np.zeros(x.shape[1]+1)\n",
    "    new_slopes = np.zeros(x.shape[1]+1)\n",
    "    for i in range(number_of_iterations):\n",
    "        for j in range(len(slopes)):\n",
    "            new_slopes[j] = slopes[j] - learning_rate*step_gradient(x,y,slopes,j)\n",
    "        slopes = new_slopes\n",
    "        print(i,\"th iteration with cost \",cost(x,y,slopes))\n",
    "    return slopes"
   ]
  },
  {
   "cell_type": "code",
   "execution_count": 10,
   "metadata": {},
   "outputs": [],
   "source": [
    "def step_gradient(x, y, slopes, j):\n",
    "    M = len(x)\n",
    "    N = len(slopes)\n",
    "    if j==(N-1):\n",
    "        change = 0\n",
    "        for i in range(M):\n",
    "            pred = 0\n",
    "            for k in range(N-1):\n",
    "                pred += slopes[k]*x[i, k]\n",
    "            pred += slopes[N-1]\n",
    "            pred = 1/(1+(e**(-pred)))\n",
    "            change += (-1/M) * (y[i] - pred)*1\n",
    "        return change\n",
    "    else:\n",
    "        change = 0\n",
    "        for i in range(M):\n",
    "            pred = 0\n",
    "            for k in range(N-1):\n",
    "                pred += slopes[k]*x[i, k]\n",
    "            pred += slopes[N-1]\n",
    "            pred = 1/(1+(e**(-pred)))\n",
    "            change += (-1/M) * (y[i] - pred)*x[i, j]\n",
    "        return change"
   ]
  },
  {
   "cell_type": "code",
   "execution_count": 11,
   "metadata": {},
   "outputs": [],
   "source": [
    "def cost(x, y, slopes):\n",
    "    N = len(slopes)\n",
    "    M = len(x)\n",
    "    total_cost = 0\n",
    "    for i in range(M):\n",
    "        pred = 0\n",
    "        for j in range(N-1):\n",
    "            pred += slopes[j]* x[i,j]\n",
    "        pred += slopes[N-1]\n",
    "        pred = 1/(1+(e**(-pred)))\n",
    "        total_cost += - y[i]*log(pred) - (1-y[i])*log(1-pred)\n",
    "    return total_cost/M"
   ]
  },
  {
   "cell_type": "code",
   "execution_count": 12,
   "metadata": {},
   "outputs": [],
   "source": [
    "def run(x, y):\n",
    "    learning_rate = 0.1\n",
    "    number_of_iterations = 100\n",
    "    return gd(x, y, learning_rate, number_of_iterations)"
   ]
  },
  {
   "cell_type": "code",
   "execution_count": 13,
   "metadata": {},
   "outputs": [
    {
     "name": "stdout",
     "output_type": "stream",
     "text": [
      "0 th iteration with cost  0.5231602807522308\n",
      "1 th iteration with cost  0.4436994436336172\n",
      "2 th iteration with cost  0.39138121078713195\n",
      "3 th iteration with cost  0.3540652049651345\n",
      "4 th iteration with cost  0.32591287134440866\n",
      "5 th iteration with cost  0.30378377219740854\n",
      "6 th iteration with cost  0.28583870355504526\n",
      "7 th iteration with cost  0.2709278561031364\n",
      "8 th iteration with cost  0.25829443903932164\n",
      "9 th iteration with cost  0.2474191794151332\n",
      "10 th iteration with cost  0.23793332702122041\n",
      "11 th iteration with cost  0.22956735685571816\n",
      "12 th iteration with cost  0.22211936458518394\n",
      "13 th iteration with cost  0.21543485779045593\n",
      "14 th iteration with cost  0.2093934153346225\n",
      "15 th iteration with cost  0.20389963364659605\n",
      "16 th iteration with cost  0.19887683164339606\n",
      "17 th iteration with cost  0.1942625790273451\n",
      "18 th iteration with cost  0.1900054586858593\n",
      "19 th iteration with cost  0.1860626821883347\n",
      "20 th iteration with cost  0.18239830627300227\n",
      "21 th iteration with cost  0.1789818800066956\n",
      "22 th iteration with cost  0.1757874053788015\n",
      "23 th iteration with cost  0.1727925292449477\n",
      "24 th iteration with cost  0.16997790825417555\n",
      "25 th iteration with cost  0.16732670466818825\n",
      "26 th iteration with cost  0.16482418232238885\n",
      "27 th iteration with cost  0.16245737999397616\n",
      "28 th iteration with cost  0.16021484518160642\n",
      "29 th iteration with cost  0.15808641545996419\n",
      "30 th iteration with cost  0.15606303761979434\n",
      "31 th iteration with cost  0.15413661705972487\n",
      "32 th iteration with cost  0.1522998915822914\n",
      "33 th iteration with cost  0.15054632501822485\n",
      "34 th iteration with cost  0.14887001707041844\n",
      "35 th iteration with cost  0.14726562651079375\n",
      "36 th iteration with cost  0.1457283054365755\n",
      "37 th iteration with cost  0.14425364273880154\n",
      "38 th iteration with cost  0.14283761528582667\n",
      "39 th iteration with cost  0.14147654560083212\n",
      "40 th iteration with cost  0.1401670650318281\n",
      "41 th iteration with cost  0.1389060815881485\n",
      "42 th iteration with cost  0.1376907517585909\n",
      "43 th iteration with cost  0.13651845574058175\n",
      "44 th iteration with cost  0.13538677560264648\n",
      "45 th iteration with cost  0.13429347597846847\n",
      "46 th iteration with cost  0.13323648695328386\n",
      "47 th iteration with cost  0.1322138888549528\n",
      "48 th iteration with cost  0.1312238987048703\n",
      "49 th iteration with cost  0.13026485811956462\n",
      "50 th iteration with cost  0.12933522248369658\n",
      "51 th iteration with cost  0.12843355124028255\n",
      "52 th iteration with cost  0.12755849916512368\n",
      "53 th iteration with cost  0.12670880851036026\n",
      "54 th iteration with cost  0.125883301917291\n",
      "55 th iteration with cost  0.12508087601157514\n",
      "56 th iteration with cost  0.12430049560503431\n",
      "57 th iteration with cost  0.1235411884377852\n",
      "58 th iteration with cost  0.12280204040261902\n",
      "59 th iteration with cost  0.12208219120059542\n",
      "60 th iteration with cost  0.12138083038293218\n",
      "61 th iteration with cost  0.1206971937395485\n",
      "62 th iteration with cost  0.12003055999922019\n",
      "63 th iteration with cost  0.11938024781031466\n",
      "64 th iteration with cost  0.11874561297455348\n",
      "65 th iteration with cost  0.11812604590931719\n",
      "66 th iteration with cost  0.11752096931668117\n",
      "67 th iteration with cost  0.11692983603972472\n",
      "68 th iteration with cost  0.1163521270887265\n",
      "69 th iteration with cost  0.11578734982167897\n",
      "70 th iteration with cost  0.11523503626517895\n",
      "71 th iteration with cost  0.11469474156316269\n",
      "72 th iteration with cost  0.114166042542228\n",
      "73 th iteration with cost  0.1136485363834038\n",
      "74 th iteration with cost  0.113141839391227\n",
      "75 th iteration with cost  0.11264558585187172\n",
      "76 th iteration with cost  0.11215942697287208\n",
      "77 th iteration with cost  0.11168302989768397\n",
      "78 th iteration with cost  0.11121607678896717\n",
      "79 th iteration with cost  0.1107582639750317\n",
      "80 th iteration with cost  0.11030930115440728\n",
      "81 th iteration with cost  0.10986891065394119\n",
      "82 th iteration with cost  0.109436826736254\n",
      "83 th iteration with cost  0.10901279495273787\n",
      "84 th iteration with cost  0.10859657153862548\n",
      "85 th iteration with cost  0.10818792284695412\n",
      "86 th iteration with cost  0.10778662481852225\n",
      "87 th iteration with cost  0.10739246248518008\n",
      "88 th iteration with cost  0.10700522950402065\n",
      "89 th iteration with cost  0.10662472772023797\n",
      "90 th iteration with cost  0.10625076675660262\n",
      "91 th iteration with cost  0.1058831636276704\n",
      "92 th iteration with cost  0.10552174237699284\n",
      "93 th iteration with cost  0.10516633373573574\n",
      "94 th iteration with cost  0.10481677480123508\n",
      "95 th iteration with cost  0.10447290873413645\n",
      "96 th iteration with cost  0.10413458447287066\n",
      "97 th iteration with cost  0.10380165646430546\n",
      "98 th iteration with cost  0.10347398440951307\n",
      "99 th iteration with cost  0.10315143302366174\n"
     ]
    }
   ],
   "source": [
    "slopes = run(x, y)"
   ]
  },
  {
   "cell_type": "code",
   "execution_count": 14,
   "metadata": {},
   "outputs": [
    {
     "name": "stdout",
     "output_type": "stream",
     "text": [
      "Slope for 0 th feature is -0.39374740175116957\n",
      "Slope for 1 th feature is -0.3415491940384344\n",
      "Slope for 2 th feature is -0.3871385231072997\n",
      "Slope for 3 th feature is -0.38351756869924375\n",
      "Slope for 4 th feature is -0.1469506823078138\n",
      "Slope for 5 th feature is -0.14423588456867198\n",
      "Slope for 6 th feature is -0.29727517164447337\n",
      "Slope for 7 th feature is -0.3884157872777765\n",
      "Slope for 8 th feature is -0.10615807474079964\n",
      "Slope for 9 th feature is 0.1633649289481356\n",
      "Slope for 10 th feature is -0.33536203627242667\n",
      "Slope for 11 th feature is -0.0011292919576483334\n",
      "Slope for 12 th feature is -0.28777006759681184\n",
      "Slope for 13 th feature is -0.30634704950350694\n",
      "Slope for 14 th feature is 0.0072904218987018266\n",
      "Slope for 15 th feature is 0.09195926851819908\n",
      "Slope for 16 th feature is 0.07582548869654518\n",
      "Slope for 17 th feature is -0.05982026096290795\n",
      "Slope for 18 th feature is 0.06589302756547917\n",
      "Slope for 19 th feature is 0.17595737448906093\n",
      "Slope for 20 th feature is -0.44812489109819276\n",
      "Slope for 21 th feature is -0.40848237705210405\n",
      "Slope for 22 th feature is -0.42867407215440984\n",
      "Slope for 23 th feature is -0.41794098483583375\n",
      "Slope for 24 th feature is -0.3039765009658893\n",
      "Slope for 25 th feature is -0.20750997296408608\n",
      "Slope for 26 th feature is -0.2852209404258076\n",
      "Slope for 27 th feature is -0.39876204809299587\n",
      "Slope for 28 th feature is -0.2767615860825413\n",
      "Slope for 29 th feature is -0.09944298978339892\n",
      "Slope for 30 th feature is 0.32666170583184356\n"
     ]
    }
   ],
   "source": [
    "for i in range(len(slopes)):\n",
    "    print(\"Slope for\",i,\"th feature is\",slopes[i])"
   ]
  },
  {
   "cell_type": "code",
   "execution_count": 15,
   "metadata": {},
   "outputs": [],
   "source": [
    "def predict(x, slopes):\n",
    "    pred = np.zeros(len(x))\n",
    "    for i in range(len(x)):\n",
    "        this_pred = slopes[len(slopes)-1]\n",
    "        for j in range(len(slopes)-1):\n",
    "            this_pred += slopes[j]* x[i,j]\n",
    "        pred[i] = 1/(1+e**(-this_pred))\n",
    "    return pred"
   ]
  },
  {
   "cell_type": "code",
   "execution_count": 16,
   "metadata": {},
   "outputs": [],
   "source": [
    "y_pred = predict(x,slopes)"
   ]
  },
  {
   "cell_type": "code",
   "execution_count": 17,
   "metadata": {},
   "outputs": [
    {
     "name": "stdout",
     "output_type": "stream",
     "text": [
      "Accuracy is  98.06678383128295 %\n"
     ]
    }
   ],
   "source": [
    "# calculate the accuracy of the model\n",
    "count = 0\n",
    "for i in range(len(x)):\n",
    "    if y_pred[i]>0.5 and y[i]==1 or y_pred[i]<=0.5 and y[i]==0:\n",
    "        count += 1\n",
    "print(\"Accuracy is \",count*100/len(x),\"%\")"
   ]
  },
  {
   "cell_type": "code",
   "execution_count": 18,
   "metadata": {},
   "outputs": [],
   "source": [
    "from sklearn.metrics import confusion_matrix"
   ]
  },
  {
   "cell_type": "code",
   "execution_count": 19,
   "metadata": {},
   "outputs": [],
   "source": [
    "for i in range(len(y)):\n",
    "    if y_pred[i]>0.5:\n",
    "        y_pred[i] = 1\n",
    "    else:\n",
    "        y_pred[i] = 0"
   ]
  },
  {
   "cell_type": "code",
   "execution_count": 20,
   "metadata": {},
   "outputs": [
    {
     "name": "stdout",
     "output_type": "stream",
     "text": [
      "[[203   9]\n",
      " [  2 355]]\n"
     ]
    }
   ],
   "source": [
    "print(confusion_matrix(y,y_pred))"
   ]
  },
  {
   "cell_type": "code",
   "execution_count": 21,
   "metadata": {},
   "outputs": [
    {
     "name": "stdout",
     "output_type": "stream",
     "text": [
      "             precision    recall  f1-score   support\n",
      "\n",
      "          0       0.99      0.96      0.97       212\n",
      "          1       0.98      0.99      0.98       357\n",
      "\n",
      "avg / total       0.98      0.98      0.98       569\n",
      "\n"
     ]
    }
   ],
   "source": [
    "from sklearn.metrics import classification_report\n",
    "print(classification_report(y,y_pred))"
   ]
  },
  {
   "cell_type": "code",
   "execution_count": null,
   "metadata": {},
   "outputs": [],
   "source": []
  }
 ],
 "metadata": {
  "kernelspec": {
   "display_name": "Python 3",
   "language": "python",
   "name": "python3"
  },
  "language_info": {
   "codemirror_mode": {
    "name": "ipython",
    "version": 3
   },
   "file_extension": ".py",
   "mimetype": "text/x-python",
   "name": "python",
   "nbconvert_exporter": "python",
   "pygments_lexer": "ipython3",
   "version": "3.6.5"
  }
 },
 "nbformat": 4,
 "nbformat_minor": 2
}
