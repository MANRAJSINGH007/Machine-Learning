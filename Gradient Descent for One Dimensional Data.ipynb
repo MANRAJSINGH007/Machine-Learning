{
 "cells": [
  {
   "cell_type": "code",
   "execution_count": 1,
   "metadata": {},
   "outputs": [],
   "source": [
    "import numpy as np"
   ]
  },
  {
   "cell_type": "code",
   "execution_count": 2,
   "metadata": {},
   "outputs": [
    {
     "data": {
      "text/plain": [
       "(100, 2)"
      ]
     },
     "execution_count": 2,
     "metadata": {},
     "output_type": "execute_result"
    }
   ],
   "source": [
    "data = np.loadtxt('data_gradient_descent.csv', delimiter=',')\n",
    "data.shape"
   ]
  },
  {
   "cell_type": "code",
   "execution_count": 3,
   "metadata": {},
   "outputs": [],
   "source": [
    "# do not split, use whole data"
   ]
  },
  {
   "cell_type": "code",
   "execution_count": 4,
   "metadata": {},
   "outputs": [],
   "source": [
    "def step_gradient(data,learning_rate,m,c):\n",
    "    m_slope=0\n",
    "    c_slope=0\n",
    "    N=len(data)\n",
    "    for i in range(N):\n",
    "        x=data[i,0]\n",
    "        y=data[i,1]\n",
    "        m_slope+=-2/N *(y-m*x-c)*x\n",
    "        c_slope=-2/N *(y-m*x-c)\n",
    "    new_m=m-learning_rate*m_slope\n",
    "    new_c=c-learning_rate*c_slope\n",
    "    return new_m, new_c"
   ]
  },
  {
   "cell_type": "code",
   "execution_count": 5,
   "metadata": {},
   "outputs": [],
   "source": [
    "def gd(data, learning_rate, num_iterations):\n",
    "    m=0\n",
    "    c=0\n",
    "    for i in range(num_iterations):\n",
    "        m,c=step_gradient(data,learning_rate,m,c)\n",
    "        print(i,\"Cost\",cost_function(data,m,c))\n",
    "    return m,c"
   ]
  },
  {
   "cell_type": "code",
   "execution_count": 6,
   "metadata": {},
   "outputs": [],
   "source": [
    "def cost_function(data,m,c):\n",
    "    N=len(data)\n",
    "    cost=0\n",
    "    for i in range(N):\n",
    "        x=data[i,0]\n",
    "        y=data[i,1]\n",
    "        cost+=1/N * ((y-m*x-c)**2)\n",
    "    return cost"
   ]
  },
  {
   "cell_type": "code",
   "execution_count": 7,
   "metadata": {},
   "outputs": [],
   "source": [
    "def run():\n",
    "    data = np.loadtxt('data_gradient_descent.csv', delimiter=',')\n",
    "    learning_rate=0.0001\n",
    "    num_iterations=10\n",
    "    m,c=gd(data,learning_rate,num_iterations)\n",
    "    print(m,c)"
   ]
  },
  {
   "cell_type": "code",
   "execution_count": 8,
   "metadata": {},
   "outputs": [
    {
     "name": "stdout",
     "output_type": "stream",
     "text": [
      "0 Cost 1485.6447853403884\n",
      "1 Cost 458.39618954001145\n",
      "2 Cost 199.72525202540803\n",
      "3 Cost 134.58959256127437\n",
      "4 Cost 118.18791248462972\n",
      "5 Cost 114.05786413789036\n",
      "6 Cost 113.01789896463401\n",
      "7 Cost 112.75602924417291\n",
      "8 Cost 112.69008248092909\n",
      "9 Cost 112.67346642392336\n",
      "1.4779837997320844 0.0004746355332455301\n"
     ]
    }
   ],
   "source": [
    "run()"
   ]
  }
 ],
 "metadata": {
  "kernelspec": {
   "display_name": "Python 3",
   "language": "python",
   "name": "python3"
  },
  "language_info": {
   "codemirror_mode": {
    "name": "ipython",
    "version": 3
   },
   "file_extension": ".py",
   "mimetype": "text/x-python",
   "name": "python",
   "nbconvert_exporter": "python",
   "pygments_lexer": "ipython3",
   "version": "3.6.5"
  }
 },
 "nbformat": 4,
 "nbformat_minor": 2
}
