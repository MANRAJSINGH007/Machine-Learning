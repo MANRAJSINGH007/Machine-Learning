{
 "cells": [
  {
   "cell_type": "code",
   "execution_count": 1,
   "metadata": {},
   "outputs": [],
   "source": [
    "import numpy as np\n",
    "import pandas as pd"
   ]
  },
  {
   "cell_type": "code",
   "execution_count": 2,
   "metadata": {},
   "outputs": [],
   "source": [
    "data = pd.read_csv(\"training_ccpp_x_y_train.csv\")"
   ]
  },
  {
   "cell_type": "code",
   "execution_count": 3,
   "metadata": {},
   "outputs": [
    {
     "data": {
      "text/plain": [
       "(7176, 5)"
      ]
     },
     "execution_count": 3,
     "metadata": {},
     "output_type": "execute_result"
    }
   ],
   "source": [
    "data.shape"
   ]
  },
  {
   "cell_type": "code",
   "execution_count": 4,
   "metadata": {},
   "outputs": [
    {
     "data": {
      "text/plain": [
       "Index(['# T', ' V', ' AP', ' RH', ' EP'], dtype='object')"
      ]
     },
     "execution_count": 4,
     "metadata": {},
     "output_type": "execute_result"
    }
   ],
   "source": [
    "data.columns"
   ]
  },
  {
   "cell_type": "code",
   "execution_count": 5,
   "metadata": {},
   "outputs": [
    {
     "data": {
      "text/html": [
       "<div>\n",
       "<style scoped>\n",
       "    .dataframe tbody tr th:only-of-type {\n",
       "        vertical-align: middle;\n",
       "    }\n",
       "\n",
       "    .dataframe tbody tr th {\n",
       "        vertical-align: top;\n",
       "    }\n",
       "\n",
       "    .dataframe thead th {\n",
       "        text-align: right;\n",
       "    }\n",
       "</style>\n",
       "<table border=\"1\" class=\"dataframe\">\n",
       "  <thead>\n",
       "    <tr style=\"text-align: right;\">\n",
       "      <th></th>\n",
       "      <th># T</th>\n",
       "      <th>V</th>\n",
       "      <th>AP</th>\n",
       "      <th>RH</th>\n",
       "      <th>EP</th>\n",
       "    </tr>\n",
       "  </thead>\n",
       "  <tbody>\n",
       "    <tr>\n",
       "      <th>count</th>\n",
       "      <td>7176.000000</td>\n",
       "      <td>7176.000000</td>\n",
       "      <td>7176.000000</td>\n",
       "      <td>7176.000000</td>\n",
       "      <td>7176.000000</td>\n",
       "    </tr>\n",
       "    <tr>\n",
       "      <th>mean</th>\n",
       "      <td>19.629712</td>\n",
       "      <td>54.288154</td>\n",
       "      <td>1013.263032</td>\n",
       "      <td>73.275818</td>\n",
       "      <td>454.431293</td>\n",
       "    </tr>\n",
       "    <tr>\n",
       "      <th>std</th>\n",
       "      <td>7.475256</td>\n",
       "      <td>12.751468</td>\n",
       "      <td>5.964863</td>\n",
       "      <td>14.625093</td>\n",
       "      <td>17.134571</td>\n",
       "    </tr>\n",
       "    <tr>\n",
       "      <th>min</th>\n",
       "      <td>1.810000</td>\n",
       "      <td>25.360000</td>\n",
       "      <td>992.890000</td>\n",
       "      <td>25.560000</td>\n",
       "      <td>420.260000</td>\n",
       "    </tr>\n",
       "    <tr>\n",
       "      <th>25%</th>\n",
       "      <td>13.470000</td>\n",
       "      <td>41.740000</td>\n",
       "      <td>1009.010000</td>\n",
       "      <td>63.202500</td>\n",
       "      <td>439.737500</td>\n",
       "    </tr>\n",
       "    <tr>\n",
       "      <th>50%</th>\n",
       "      <td>20.315000</td>\n",
       "      <td>52.050000</td>\n",
       "      <td>1012.910000</td>\n",
       "      <td>74.895000</td>\n",
       "      <td>451.740000</td>\n",
       "    </tr>\n",
       "    <tr>\n",
       "      <th>75%</th>\n",
       "      <td>25.720000</td>\n",
       "      <td>66.540000</td>\n",
       "      <td>1017.302500</td>\n",
       "      <td>84.925000</td>\n",
       "      <td>468.667500</td>\n",
       "    </tr>\n",
       "    <tr>\n",
       "      <th>max</th>\n",
       "      <td>35.770000</td>\n",
       "      <td>81.560000</td>\n",
       "      <td>1033.300000</td>\n",
       "      <td>100.160000</td>\n",
       "      <td>495.760000</td>\n",
       "    </tr>\n",
       "  </tbody>\n",
       "</table>\n",
       "</div>"
      ],
      "text/plain": [
       "               # T            V           AP           RH           EP\n",
       "count  7176.000000  7176.000000  7176.000000  7176.000000  7176.000000\n",
       "mean     19.629712    54.288154  1013.263032    73.275818   454.431293\n",
       "std       7.475256    12.751468     5.964863    14.625093    17.134571\n",
       "min       1.810000    25.360000   992.890000    25.560000   420.260000\n",
       "25%      13.470000    41.740000  1009.010000    63.202500   439.737500\n",
       "50%      20.315000    52.050000  1012.910000    74.895000   451.740000\n",
       "75%      25.720000    66.540000  1017.302500    84.925000   468.667500\n",
       "max      35.770000    81.560000  1033.300000   100.160000   495.760000"
      ]
     },
     "execution_count": 5,
     "metadata": {},
     "output_type": "execute_result"
    }
   ],
   "source": [
    "data.describe()"
   ]
  },
  {
   "cell_type": "code",
   "execution_count": 6,
   "metadata": {},
   "outputs": [],
   "source": [
    "x = data.iloc[:,:-1]\n",
    "y = data.iloc[:,-1]"
   ]
  },
  {
   "cell_type": "code",
   "execution_count": 7,
   "metadata": {},
   "outputs": [],
   "source": [
    "from sklearn.preprocessing import StandardScaler\n",
    "scaler = StandardScaler()\n",
    "x = scaler.fit_transform(x) "
   ]
  },
  {
   "cell_type": "code",
   "execution_count": 8,
   "metadata": {},
   "outputs": [
    {
     "data": {
      "text/plain": [
       "numpy.ndarray"
      ]
     },
     "execution_count": 8,
     "metadata": {},
     "output_type": "execute_result"
    }
   ],
   "source": [
    "type(x)"
   ]
  },
  {
   "cell_type": "code",
   "execution_count": 9,
   "metadata": {},
   "outputs": [],
   "source": [
    "def gd(x, y, learning_rate, number_of_iterations):\n",
    "    slopes = np.zeros(x.shape[1]+1)\n",
    "    new_slopes = np.zeros(x.shape[1]+1)\n",
    "    for i in range(number_of_iterations):\n",
    "        for j in range(len(slopes)):\n",
    "            new_slopes[j] = slopes[j] - learning_rate*step_gradient(x,y,slopes,j)\n",
    "        slopes = new_slopes\n",
    "        print(i,\"th iteration with cost \",cost(x,y,slopes))\n",
    "    return slopes"
   ]
  },
  {
   "cell_type": "code",
   "execution_count": 10,
   "metadata": {},
   "outputs": [],
   "source": [
    "def step_gradient(x, y, slopes, j):\n",
    "    M = len(x)\n",
    "    N = len(slopes)\n",
    "    if j==(N-1):\n",
    "        change = 0\n",
    "        for i in range(M):\n",
    "            pred = 0\n",
    "            for k in range(N-1):\n",
    "                pred += slopes[k]*x[i, k]\n",
    "            pred += slopes[N-1]\n",
    "            change += (-2/M) * (y[i] - pred)*1\n",
    "        return change\n",
    "    else:\n",
    "        change = 0\n",
    "        for i in range(M):\n",
    "            pred = 0\n",
    "            for k in range(N-1):\n",
    "                pred += slopes[k]*x[i, k]\n",
    "            pred += slopes[N-1]\n",
    "            change += (-2/M) * (y[i] - pred)*x[i, j]\n",
    "        return change"
   ]
  },
  {
   "cell_type": "code",
   "execution_count": 11,
   "metadata": {},
   "outputs": [],
   "source": [
    "def cost(x, y, slopes):\n",
    "    N = len(slopes)\n",
    "    M = len(x)\n",
    "    total_cost = 0\n",
    "    for i in range(M):\n",
    "        pred = 0\n",
    "        for j in range(N-1):\n",
    "            pred += slopes[j]* x[i,j]\n",
    "        pred += slopes[N-1]\n",
    "        total_cost += (y[i] - pred)**2\n",
    "    return total_cost"
   ]
  },
  {
   "cell_type": "code",
   "execution_count": 12,
   "metadata": {},
   "outputs": [],
   "source": [
    "def run(x, y):\n",
    "    learning_rate = 0.5\n",
    "    number_of_iterations = 100\n",
    "    return gd(x, y, learning_rate, number_of_iterations)"
   ]
  },
  {
   "cell_type": "code",
   "execution_count": 13,
   "metadata": {},
   "outputs": [
    {
     "name": "stdout",
     "output_type": "stream",
     "text": [
      "0 th iteration with cost  3912029.7189101693\n",
      "1 th iteration with cost  645142.1432466585\n",
      "2 th iteration with cost  419985.9338275165\n",
      "3 th iteration with cost  310173.28962221334\n",
      "4 th iteration with cost  249299.4545514008\n",
      "5 th iteration with cost  212737.225595226\n",
      "6 th iteration with cost  189957.67017880085\n",
      "7 th iteration with cost  175540.8451616579\n",
      "8 th iteration with cost  166356.1268143608\n",
      "9 th iteration with cost  160488.4246375661\n",
      "10 th iteration with cost  156735.4453310814\n",
      "11 th iteration with cost  154333.86892234266\n",
      "12 th iteration with cost  152796.75665398806\n",
      "13 th iteration with cost  151812.8541680257\n",
      "14 th iteration with cost  151183.03748540246\n",
      "15 th iteration with cost  150779.87249121844\n",
      "16 th iteration with cost  150521.79256826156\n",
      "17 th iteration with cost  150356.58620296465\n",
      "18 th iteration with cost  150250.83146942066\n",
      "19 th iteration with cost  150183.1339030394\n",
      "20 th iteration with cost  150139.79814646463\n",
      "21 th iteration with cost  150112.0572976823\n",
      "22 th iteration with cost  150094.29933570413\n",
      "23 th iteration with cost  150082.93179534402\n",
      "24 th iteration with cost  150075.6550045273\n",
      "25 th iteration with cost  150070.9968565873\n",
      "26 th iteration with cost  150068.01500060214\n",
      "27 th iteration with cost  150066.10620224744\n",
      "28 th iteration with cost  150064.88430850787\n",
      "29 th iteration with cost  150064.10212829194\n",
      "30 th iteration with cost  150063.60142526717\n",
      "31 th iteration with cost  150063.28090639747\n",
      "32 th iteration with cost  150063.0757301944\n",
      "33 th iteration with cost  150062.9443891765\n",
      "34 th iteration with cost  150062.86031284268\n",
      "35 th iteration with cost  150062.8064924142\n",
      "36 th iteration with cost  150062.77203992996\n",
      "37 th iteration with cost  150062.74998559634\n",
      "38 th iteration with cost  150062.73586778718\n",
      "39 th iteration with cost  150062.7268304463\n",
      "40 th iteration with cost  150062.7210453028\n",
      "41 th iteration with cost  150062.71734201553\n",
      "42 th iteration with cost  150062.71497140086\n",
      "43 th iteration with cost  150062.71345388156\n",
      "44 th iteration with cost  150062.71248246077\n",
      "45 th iteration with cost  150062.71186061675\n",
      "46 th iteration with cost  150062.71146255117\n",
      "47 th iteration with cost  150062.71120773524\n",
      "48 th iteration with cost  150062.71104461717\n",
      "49 th iteration with cost  150062.7109401991\n",
      "50 th iteration with cost  150062.7108733581\n",
      "51 th iteration with cost  150062.71083056988\n",
      "52 th iteration with cost  150062.71080317913\n",
      "53 th iteration with cost  150062.71078564652\n",
      "54 th iteration with cost  150062.71077442222\n",
      "55 th iteration with cost  150062.71076723703\n",
      "56 th iteration with cost  150062.71076263863\n",
      "57 th iteration with cost  150062.71075969364\n",
      "58 th iteration with cost  150062.71075780896\n",
      "59 th iteration with cost  150062.71075660246\n",
      "60 th iteration with cost  150062.7107558303\n",
      "61 th iteration with cost  150062.71075533674\n",
      "62 th iteration with cost  150062.7107550195\n",
      "63 th iteration with cost  150062.71075481706\n",
      "64 th iteration with cost  150062.7107546875\n",
      "65 th iteration with cost  150062.7107546039\n",
      "66 th iteration with cost  150062.71075455102\n",
      "67 th iteration with cost  150062.71075451752\n",
      "68 th iteration with cost  150062.7107544957\n",
      "69 th iteration with cost  150062.71075448173\n",
      "70 th iteration with cost  150062.7107544725\n",
      "71 th iteration with cost  150062.71075446694\n",
      "72 th iteration with cost  150062.71075446293\n",
      "73 th iteration with cost  150062.7107544608\n",
      "74 th iteration with cost  150062.71075445894\n",
      "75 th iteration with cost  150062.71075445847\n",
      "76 th iteration with cost  150062.71075445772\n",
      "77 th iteration with cost  150062.71075445786\n",
      "78 th iteration with cost  150062.71075445673\n",
      "79 th iteration with cost  150062.71075445792\n",
      "80 th iteration with cost  150062.71075445655\n",
      "81 th iteration with cost  150062.71075445678\n",
      "82 th iteration with cost  150062.710754457\n",
      "83 th iteration with cost  150062.71075445623\n",
      "84 th iteration with cost  150062.71075445667\n",
      "85 th iteration with cost  150062.71075445594\n",
      "86 th iteration with cost  150062.71075445652\n",
      "87 th iteration with cost  150062.7107544566\n",
      "88 th iteration with cost  150062.71075445705\n",
      "89 th iteration with cost  150062.71075445705\n",
      "90 th iteration with cost  150062.71075445687\n",
      "91 th iteration with cost  150062.71075445597\n",
      "92 th iteration with cost  150062.7107544562\n",
      "93 th iteration with cost  150062.71075445722\n",
      "94 th iteration with cost  150062.71075445678\n",
      "95 th iteration with cost  150062.71075445585\n",
      "96 th iteration with cost  150062.71075445603\n",
      "97 th iteration with cost  150062.71075445693\n",
      "98 th iteration with cost  150062.71075445708\n",
      "99 th iteration with cost  150062.71075445623\n"
     ]
    }
   ],
   "source": [
    "slopes = run(x, y)"
   ]
  },
  {
   "cell_type": "code",
   "execution_count": 14,
   "metadata": {},
   "outputs": [
    {
     "name": "stdout",
     "output_type": "stream",
     "text": [
      "Slope for  0 th feature is  -14.902729349146272\n",
      "Slope for  1 th feature is  -2.894278190331993\n",
      "Slope for  2 th feature is  0.3497399626058934\n",
      "Slope for  3 th feature is  -2.3423017156961077\n",
      "Slope for  4 th feature is  454.4312931995541\n"
     ]
    }
   ],
   "source": [
    "for i in range(len(slopes)):\n",
    "    print(\"Slope for \",i,\"th feature is \",slopes[i])"
   ]
  },
  {
   "cell_type": "code",
   "execution_count": 15,
   "metadata": {},
   "outputs": [],
   "source": [
    "def predict(x, slopes):\n",
    "    pred = np.zeros(len(x))\n",
    "    for i in range(len(x)):\n",
    "        this_pred = slopes[len(slopes)-1]\n",
    "        for j in range(len(slopes)-1):\n",
    "            this_pred += slopes[j]* x[i,j]\n",
    "        pred[i] = this_pred\n",
    "    return pred"
   ]
  },
  {
   "cell_type": "code",
   "execution_count": 16,
   "metadata": {},
   "outputs": [],
   "source": [
    "x_test = pd.read_csv(\"test_ccpp_x_test.csv\")"
   ]
  },
  {
   "cell_type": "code",
   "execution_count": 17,
   "metadata": {},
   "outputs": [],
   "source": [
    "x_test = scaler.transform(x_test)\n",
    "y_pred = predict(x_test,slopes)"
   ]
  },
  {
   "cell_type": "code",
   "execution_count": 18,
   "metadata": {},
   "outputs": [],
   "source": [
    "np.savetxt(\"gradient_descent_problem_2_predictions.csv\",y_pred,delimiter=\",\")"
   ]
  },
  {
   "cell_type": "code",
   "execution_count": null,
   "metadata": {},
   "outputs": [],
   "source": []
  }
 ],
 "metadata": {
  "kernelspec": {
   "display_name": "Python 3",
   "language": "python",
   "name": "python3"
  },
  "language_info": {
   "codemirror_mode": {
    "name": "ipython",
    "version": 3
   },
   "file_extension": ".py",
   "mimetype": "text/x-python",
   "name": "python",
   "nbconvert_exporter": "python",
   "pygments_lexer": "ipython3",
   "version": "3.6.5"
  }
 },
 "nbformat": 4,
 "nbformat_minor": 2
}
